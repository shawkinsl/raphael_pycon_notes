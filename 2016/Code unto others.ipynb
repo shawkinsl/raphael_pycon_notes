{
 "cells": [
  {
   "cell_type": "markdown",
   "metadata": {},
   "source": [
    "Write code that describes itself\n",
    "\n",
    "Write stuff that is cohesive\n",
    "\n",
    "Don't mix layers of abstraction\n",
    "\n",
    "Don't write stuff with too much stuff\n",
    "\n",
    "Don't write stuff that is too long\n",
    "\n",
    "Long functions are a \"tax\" on human memory\n",
    "\n",
    "Don't put elements at class-scope\n",
    "\n",
    "Avoid self-usage of public functions\n",
    "\n",
    "Minimize instance state\n",
    "\n",
    "Write everything privately! Only promote stuff to public *on purpose!*"
   ]
  }
 ],
 "metadata": {
  "kernelspec": {
   "display_name": "Python 2",
   "language": "python",
   "name": "python2"
  },
  "language_info": {
   "codemirror_mode": {
    "name": "ipython",
    "version": 2
   },
   "file_extension": ".py",
   "mimetype": "text/x-python",
   "name": "python",
   "nbconvert_exporter": "python",
   "pygments_lexer": "ipython2",
   "version": "2.7.10"
  }
 },
 "nbformat": 4,
 "nbformat_minor": 0
}
