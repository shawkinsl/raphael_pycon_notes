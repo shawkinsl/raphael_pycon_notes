{
 "cells": [
  {
   "cell_type": "markdown",
   "metadata": {},
   "source": [
    "# star_destroyer\n",
    "- https://pypi.python.org/pypi/star-destroyer/1.0\n",
    "\n",
    "# compromise / Travis Morton\n",
    "- holy shit: https://github.com/TravisJMorton/Compromise\n",
    "\n",
    "# Trey Hunner / Mixing Tabs and Spaces\n",
    "- lol don't\n",
    "\n",
    "# Twitter Bot Fairy Tales\n",
    "- pinecone / buildabot\n",
    "\n",
    "# Erin Broswell / Render all the things in the browser (with python)\n",
    "- @erinbspace\n",
    "\n",
    "# nylas-perftools\n",
    "\n",
    "# Meenal Plant / teaching python via minecraft\n",
    "- coderdojo minecraft\n",
    "\n",
    "# debugging python in production\n",
    "- lsof\n",
    "- strace/ltrace\n",
    "- dtrace (?)\n",
    "- gdb ?\n",
    "    - attach <pid>\n",
    "    - py-bt\n",
    "    - py-list\n",
    "    - py-locals\n",
    "    \n",
    "# Greg Ward / Operator overloading\n",
    "- \n"
   ]
  }
 ],
 "metadata": {
  "kernelspec": {
   "display_name": "Python 2",
   "language": "python",
   "name": "python2"
  },
  "language_info": {
   "codemirror_mode": {
    "name": "ipython",
    "version": 2
   },
   "file_extension": ".py",
   "mimetype": "text/x-python",
   "name": "python",
   "nbconvert_exporter": "python",
   "pygments_lexer": "ipython2",
   "version": "2.7.10"
  }
 },
 "nbformat": 4,
 "nbformat_minor": 0
}
