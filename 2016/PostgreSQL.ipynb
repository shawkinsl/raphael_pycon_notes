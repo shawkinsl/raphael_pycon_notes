{
 "cells": [
  {
   "cell_type": "markdown",
   "metadata": {},
   "source": [
    "# New stuff\n",
    "- upsert\n",
    "- new ways to index\n",
    "    - gin: good for things like multiple values in a single column (jsonb)\n",
    "    - GiST: values that overlap columns\n",
    "    - KNN: Similarity\n",
    "    - SP-GiST: good for phone numbers (?)\n",
    "    - BRIN: Block-Range Index. Usually useful for hundreds of millions of rows in a table with \"natural clustering\"\n",
    "- Foreign Data Wrappers\n",
    "    - Connect to external data source from inside postgres\n",
    "- Import foreign data\n",
    "- Grouping sets\n",
    "- JSONB Operators\n",
    "    - new in 9.4\n",
    "    - Binary JSON (B also = Better)\n",
    "    - Concatenation in postgres\n",
    "    - Remove specific keys\n",
    "    - Pretty print\n",
    "\n",
    "\n",
    "# Coming in 9.6\n",
    "- parallelism\n",
    "    - parallel sequential scans\n",
    "    - parallel joins\n",
    "- No more full-table vacuums\n",
    "    - only useful for billions of records\n",
    "- bloom filter\n",
    "    - Space-efficient probabilistic data structure\n",
    "    - ` CREATE INDEX bloomidx ON table using bloom (a,b,c,d,e)`\n",
    "- improvements on postgres FDW's (postgres <-> postgres)"
   ]
  }
 ],
 "metadata": {
  "kernelspec": {
   "display_name": "Python 2",
   "language": "python",
   "name": "python2"
  },
  "language_info": {
   "codemirror_mode": {
    "name": "ipython",
    "version": 2
   },
   "file_extension": ".py",
   "mimetype": "text/x-python",
   "name": "python",
   "nbconvert_exporter": "python",
   "pygments_lexer": "ipython2",
   "version": "2.7.10"
  }
 },
 "nbformat": 4,
 "nbformat_minor": 0
}
