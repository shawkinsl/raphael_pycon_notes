{
 "cells": [
  {
   "cell_type": "markdown",
   "metadata": {},
   "source": [
    "Sebastian Vetter\n",
    "\n",
    "https://speakerdeck.com/elbaschid/click-a-pleasure-to-write-a-pleasure-to-use\n",
    "\n",
    "# Why\n",
    "- solve repetitive tasks\n",
    "\n",
    "## Why click\n",
    "- Nested subcommands\n",
    "- Group subcommands\n",
    "- Has both options and arguments\n",
    "- it's basically argparse, decoratorized\n",
    "\n",
    "### alts:\n",
    "- see: docopt"
   ]
  },
  {
   "cell_type": "markdown",
   "metadata": {},
   "source": [
    "# Building an example cli"
   ]
  },
  {
   "cell_type": "code",
   "execution_count": 2,
   "metadata": {
    "collapsed": false
   },
   "outputs": [
    {
     "ename": "ImportError",
     "evalue": "No module named click",
     "output_type": "error",
     "traceback": [
      "\u001b[0;31m---------------------------------------------------------------------------\u001b[0m",
      "\u001b[0;31mImportError\u001b[0m                               Traceback (most recent call last)",
      "\u001b[0;32m<ipython-input-2-79d5713cf690>\u001b[0m in \u001b[0;36m<module>\u001b[0;34m()\u001b[0m\n\u001b[1;32m      2\u001b[0m \u001b[0;31m# also: https://github.com/elbaschid/cc-python-cli\u001b[0m\u001b[0;34m\u001b[0m\u001b[0;34m\u001b[0m\u001b[0m\n\u001b[1;32m      3\u001b[0m \u001b[0;34m\u001b[0m\u001b[0m\n\u001b[0;32m----> 4\u001b[0;31m \u001b[0;32mimport\u001b[0m \u001b[0mclick\u001b[0m\u001b[0;34m\u001b[0m\u001b[0m\n\u001b[0m\u001b[1;32m      5\u001b[0m \u001b[0;34m\u001b[0m\u001b[0m\n\u001b[1;32m      6\u001b[0m \u001b[0;34m@\u001b[0m\u001b[0mclick\u001b[0m\u001b[0;34m.\u001b[0m\u001b[0mcommand\u001b[0m\u001b[0;34m(\u001b[0m\u001b[0;34m)\u001b[0m\u001b[0;34m\u001b[0m\u001b[0m\n",
      "\u001b[0;31mImportError\u001b[0m: No module named click"
     ]
    }
   ],
   "source": [
    "# first, pip install click\n",
    "# also: https://github.com/elbaschid/cc-python-cli\n",
    "\n",
    "import click\n",
    "\n",
    "@click.command()\n",
    "def hello():\n",
    "    print(\"howdy heydo\")\n",
    "\n",
    "# arguments\n",
    "@click.command()\n",
    "@click.argument('url')\n",
    "def do_url(url):\n",
    "    print(\"processing url\" + url)\n",
    "    \n",
    "# options\n",
    "@click.command()\n",
    "@click.argument('url')\n",
    "@click.option('--email', envvar='EMAIL_ADDRESS')\n",
    "def do_url_and_email(url, email):\n",
    "    print(\"processing url, email \" + url + \", \" + email)\n",
    "    \n",
    "# flag options\n",
    "@click.command()\n",
    "@click.argument('url')\n",
    "@click.option('--email', envvar='EMAIL_ADDRESS')\n",
    "@click.option('--reset-cache', default=False, is_flag=True)\n",
    "def with_flag(url, email, reset_cache):\n",
    "    print(url, email, cache)\n",
    "\n",
    "# sub-commands: look this up later\n",
    "pass\n",
    "\n",
    "# global settings / contexts\n",
    "@click.pass_context\n",
    "def main(context, url, email, reset_cache):\n",
    "    context.obj = {\n",
    "        'url': url,\n",
    "        'email': email,\n",
    "        '...': 1 # etc\n",
    "    }\n",
    "    # .... yep look this up later too"
   ]
  },
  {
   "cell_type": "code",
   "execution_count": null,
   "metadata": {
    "collapsed": true
   },
   "outputs": [],
   "source": []
  }
 ],
 "metadata": {
  "kernelspec": {
   "display_name": "Python 2",
   "language": "python",
   "name": "python2"
  },
  "language_info": {
   "codemirror_mode": {
    "name": "ipython",
    "version": 2
   },
   "file_extension": ".py",
   "mimetype": "text/x-python",
   "name": "python",
   "nbconvert_exporter": "python",
   "pygments_lexer": "ipython2",
   "version": "2.7.10"
  }
 },
 "nbformat": 4,
 "nbformat_minor": 0
}
