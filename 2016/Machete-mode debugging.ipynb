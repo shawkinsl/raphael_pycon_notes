{
 "cells": [
  {
   "cell_type": "markdown",
   "metadata": {},
   "source": [
    "# CHAOS\n",
    "\n",
    "(http://nedbatchelder.com/text/machete.html)\n",
    "\n",
    "## use it to your advantage\n",
    "\n",
    "(openedx blog posts)\n",
    "\n",
    "# 1: Double Importing"
   ]
  },
  {
   "cell_type": "code",
   "execution_count": null,
   "metadata": {
    "collapsed": true
   },
   "outputs": [],
   "source": [
    "import inspect\n",
    "\n",
    "for f_rec in inspect.stack()[:0:-1]:\n",
    "    pass  # do stuff with f_rec"
   ]
  },
  {
   "cell_type": "markdown",
   "metadata": {
    "collapsed": true
   },
   "source": [
    "# Don't use overlapping paths!!\n",
    "\n",
    "This can cause a module to be imported twice, because\n",
    "\n",
    "`import full.path.to.module` is different from `import path.to.module`\n",
    "\n",
    "Whenever you're importing, make sure everyone calls it the same thing!"
   ]
  },
  {
   "cell_type": "markdown",
   "metadata": {},
   "source": [
    "# 2: leftover temp files\n",
    "\n",
    "## monkey-patching!"
   ]
  },
  {
   "cell_type": "code",
   "execution_count": 4,
   "metadata": {
    "collapsed": false
   },
   "outputs": [],
   "source": [
    "import tempfile\n",
    "\n",
    "def my_sneaky_function():\n",
    "    pass  # do some sneaky stuff!\n",
    "\n",
    "tempfile.mkdtemp = my_sneaky_function  # hilarious!"
   ]
  },
  {
   "cell_type": "markdown",
   "metadata": {},
   "source": [
    "- Try to patch out the right thing! patch out _get_candidate_names instead of mkdtemp\n",
    "- Have to monkeypatch early\n",
    "    - site-packages/*.pth\n",
    "    \n",
    "### extra hilarious: import statements in .pth files get executed\n",
    "\n",
    "## Lessons\n",
    "- Go read standard library! It's all python!\n",
    "- You can patch stuff\n",
    "- Write (terrible) code that lives for 10 minutes, and then banish it\n",
    "\n",
    "# 3: who's messing with `sys.path`\n",
    "\n",
    "## `sys.settrace`\n",
    "# `SYS.SETTRACE`\n",
    "\n",
    "- pdb doesn't have data breakpoints\n",
    "- instead, write a trace function\n",
    "    - trace gets executed on every line!"
   ]
  },
  {
   "cell_type": "code",
   "execution_count": 7,
   "metadata": {
    "collapsed": false
   },
   "outputs": [],
   "source": [
    "import pdb, sys\n",
    "def trace(frame, event, arg):\n",
    "    if sys.path[0].endswith(\"/lib\"):\n",
    "        pdb.set_trace()\n",
    "    return trace\n",
    "\n",
    "sys.settrace(trace)"
   ]
  },
  {
   "cell_type": "markdown",
   "metadata": {},
   "source": [
    "## Lessons\n",
    "\n",
    "- it's not always yout code\n",
    "\n",
    "# 4: why is random different"
   ]
  },
  {
   "cell_type": "code",
   "execution_count": 9,
   "metadata": {
    "collapsed": true
   },
   "outputs": [],
   "source": [
    "import random\n",
    "\n",
    "seed = random.seed(1702)\n",
    "\n"
   ]
  },
  {
   "cell_type": "markdown",
   "metadata": {},
   "source": [
    "# easy, droppable exception to find issues: 1/0\n",
    "\n",
    "- Creates a super unique exception\n",
    "- only takes three chars to type"
   ]
  },
  {
   "cell_type": "code",
   "execution_count": 10,
   "metadata": {
    "collapsed": true
   },
   "outputs": [],
   "source": [
    "import random\n",
    "random.random = lambda: 1/0  # HILARIOUS"
   ]
  },
  {
   "cell_type": "markdown",
   "metadata": {},
   "source": [
    "## Lessons\n",
    "\n",
    "- Exceptions are great way to get information\n",
    "- Try simple, fast stuff first!\n",
    "\n",
    "# Big lessons\n",
    "\n",
    "- debug without convention\n"
   ]
  }
 ],
 "metadata": {
  "kernelspec": {
   "display_name": "Python 2",
   "language": "python",
   "name": "python2"
  },
  "language_info": {
   "codemirror_mode": {
    "name": "ipython",
    "version": 2
   },
   "file_extension": ".py",
   "mimetype": "text/x-python",
   "name": "python",
   "nbconvert_exporter": "python",
   "pygments_lexer": "ipython2",
   "version": "2.7.10"
  }
 },
 "nbformat": 4,
 "nbformat_minor": 0
}
