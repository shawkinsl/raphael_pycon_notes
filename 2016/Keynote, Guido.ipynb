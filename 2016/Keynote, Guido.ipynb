{
 "cells": [
  {
   "cell_type": "markdown",
   "metadata": {},
   "source": [
    "# State of Python\n",
    "- No 2.8\n",
    "- only security updates to 2.X\n",
    "- pythonclock.org\n",
    "\n",
    "## new in 3.5\n",
    "- native coroutines, pep492\n",
    "- matrix multiply `__matmul__`\n",
    "- more unpacking syntax\n",
    "- byte formatting\n",
    "- gradual typing support\n",
    "\n",
    "## coming in 3.6\n",
    "- f-strings\n",
    "- underscores in numbers\n",
    "    - because everyone else did\n",
    "- `__fspath__` protocol, os.fspath()\n",
    "- secrets.py: randbits(), token_hex()\n",
    "- local time disambiguation, `datetime(..., fold=1)`\n",
    "- Python is moving to github, late 2016\n",
    "\n",
    "## Speculation for future\n",
    "- match statement? dict unpacking?\n",
    "- variable declaration syntax?\n",
    "    - `a = 0 # type: int`\n",
    "    - var a: int 0\n",
    "    - let a: int = 0\n",
    "    - a: int = 0\n",
    "    - etc\n",
    "- Removing the GIL ?\n",
    "\n",
    "# Chrome: hacking\n",
    "- Google Gruyere: https://google-gruyere.appspot.com/\n",
    "- xss-game.appspot.com\n"
   ]
  }
 ],
 "metadata": {
  "kernelspec": {
   "display_name": "Python 2",
   "language": "python",
   "name": "python2"
  },
  "language_info": {
   "codemirror_mode": {
    "name": "ipython",
    "version": 2
   },
   "file_extension": ".py",
   "mimetype": "text/x-python",
   "name": "python",
   "nbconvert_exporter": "python",
   "pygments_lexer": "ipython2",
   "version": "2.7.10"
  }
 },
 "nbformat": 4,
 "nbformat_minor": 0
}
