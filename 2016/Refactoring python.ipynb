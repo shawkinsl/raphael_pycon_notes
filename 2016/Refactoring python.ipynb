{
 "cells": [
  {
   "cell_type": "markdown",
   "metadata": {},
   "source": [
    "# Refactoring python: how and why\n",
    "\n",
    "refactoring is about making things **obvious**\n",
    "\n",
    "## When to refactor?\n",
    "\n",
    "- When you're about to change the code to do more stuff\n",
    "- If code is hard to test\n",
    "- if you're repeating yourself\n",
    "- if your code is \"brittle\" -- things break every time you make changes\n",
    "- if it's too complex\n",
    "\n",
    "## How?\n",
    "- find bad code\n",
    "- make it better\n",
    "- run tests\n",
    "- fix broken stuff\n",
    "- repeat\n",
    "\n",
    "## refactoring is:\n",
    "- renaming, splitting, moving\n",
    "- simplifying\n",
    "- redrawing boundaries\n",
    "\n",
    "# Strategies\n",
    "\n",
    "## prereqs\n",
    "- thorough tests\n",
    "- quick tests\n",
    "- source control\n",
    "- willing to make mistakes\n",
    "\n",
    "### Extracting stuff into variables or functions for readability"
   ]
  },
  {
   "cell_type": "code",
   "execution_count": 2,
   "metadata": {
    "collapsed": false
   },
   "outputs": [
    {
     "ename": "NameError",
     "evalue": "name 'oysters_good' is not defined",
     "output_type": "error",
     "traceback": [
      "\u001b[0;31m---------------------------------------------------------------------------\u001b[0m",
      "\u001b[0;31mNameError\u001b[0m                                 Traceback (most recent call last)",
      "\u001b[0;32m<ipython-input-2-385d1f3a7c01>\u001b[0m in \u001b[0;36m<module>\u001b[0;34m()\u001b[0m\n\u001b[0;32m----> 1\u001b[0;31m \u001b[0mtime_for_oysters\u001b[0m \u001b[0;34m=\u001b[0m \u001b[0moysters_good\u001b[0m\u001b[0;34m(\u001b[0m\u001b[0mmonth\u001b[0m\u001b[0;34m)\u001b[0m\u001b[0;34m\u001b[0m\u001b[0m\n\u001b[0m\u001b[1;32m      2\u001b[0m \u001b[0;34m\u001b[0m\u001b[0m\n\u001b[1;32m      3\u001b[0m \u001b[0;32mif\u001b[0m \u001b[0mtime_for_oysters\u001b[0m\u001b[0;34m:\u001b[0m\u001b[0;34m\u001b[0m\u001b[0m\n\u001b[1;32m      4\u001b[0m     \u001b[0;32mprint\u001b[0m \u001b[0;34m\"oysters\"\u001b[0m\u001b[0;34m\u001b[0m\u001b[0m\n",
      "\u001b[0;31mNameError\u001b[0m: name 'oysters_good' is not defined"
     ]
    }
   ],
   "source": [
    "\n",
    "time_for_oysters = oysters_good(month)\n",
    "\n",
    "if time_for_oysters:\n",
    "    print \"oysters\""
   ]
  },
  {
   "cell_type": "markdown",
   "metadata": {},
   "source": [
    "### Extract variables into classes for testability\n",
    "\n",
    "# Classes and args get complicated\n",
    "\n",
    "- When classes cover everything: time to refactor\n",
    "    - e.g. Animal vs. Pet stuff\n",
    "\n",
    "## How to redraw\n",
    "1: add a new interface\n",
    "1: maintain backwards compatibility\n",
    "1: issue warnings for old usage\n",
    "\n",
    "### why warnings?\n",
    "- python -W error my_code.py\n",
    "\n",
    "# takeaways\n",
    "- Split classes\n",
    "- Use @property to forward stuff\n",
    "- \n",
    "\n",
    "## Move field gotchas:\n"
   ]
  },
  {
   "cell_type": "code",
   "execution_count": null,
   "metadata": {
    "collapsed": true
   },
   "outputs": [],
   "source": []
  }
 ],
 "metadata": {
  "kernelspec": {
   "display_name": "Python 2",
   "language": "python",
   "name": "python2"
  },
  "language_info": {
   "codemirror_mode": {
    "name": "ipython",
    "version": 2
   },
   "file_extension": ".py",
   "mimetype": "text/x-python",
   "name": "python",
   "nbconvert_exporter": "python",
   "pygments_lexer": "ipython2",
   "version": "2.7.10"
  }
 },
 "nbformat": 4,
 "nbformat_minor": 0
}
