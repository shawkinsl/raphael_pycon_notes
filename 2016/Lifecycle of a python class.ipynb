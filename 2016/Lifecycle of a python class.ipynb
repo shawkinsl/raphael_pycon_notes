{
 "cells": [
  {
   "cell_type": "markdown",
   "metadata": {},
   "source": [
    "# What\n",
    "\n",
    "- Gonna write a super simple python class"
   ]
  },
  {
   "cell_type": "code",
   "execution_count": 1,
   "metadata": {
    "collapsed": true
   },
   "outputs": [],
   "source": [
    "class Fraction(object):\n",
    "    def __init__(self, numerator, denominator):\n",
    "        self.numerator = numerator\n",
    "        self.denominator = denominator\n",
    "    def __mul__(self, other):\n",
    "        return Fraction(self.numerator * other.numerator,\n",
    "        self.denominator * other.denominator)\n",
    "    def print_fraction(self):\n",
    "        print '{}/{}'.format(self.numerator, self.denominator)"
   ]
  },
  {
   "cell_type": "code",
   "execution_count": 2,
   "metadata": {
    "collapsed": false
   },
   "outputs": [
    {
     "name": "stdout",
     "output_type": "stream",
     "text": [
      "1/4\n"
     ]
    }
   ],
   "source": [
    "half = Fraction(1,2)\n",
    "quarter = half * half\n",
    "quarter.print_fraction()"
   ]
  },
  {
   "cell_type": "markdown",
   "metadata": {},
   "source": [
    "### why inherit?\n",
    "- metaclass propogation"
   ]
  },
  {
   "cell_type": "code",
   "execution_count": 3,
   "metadata": {
    "collapsed": false
   },
   "outputs": [
    {
     "name": "stdout",
     "output_type": "stream",
     "text": [
      "Called JustSeven ('hello', 'world') {'__module__': '__main__', '__metaclass__': <function my_meta at 0x11008b1b8>}\n"
     ]
    }
   ],
   "source": [
    "def my_meta(name, bases, d):\n",
    "    print \"Called\", name, bases, d\n",
    "    return 7\n",
    "\n",
    "class JustSeven(\"hello\", \"world\"):\n",
    "    __metaclass__ = my_meta\n"
   ]
  },
  {
   "cell_type": "code",
   "execution_count": 4,
   "metadata": {
    "collapsed": false
   },
   "outputs": [
    {
     "name": "stdout",
     "output_type": "stream",
     "text": [
      "7\n"
     ]
    }
   ],
   "source": [
    "print JustSeven"
   ]
  },
  {
   "cell_type": "code",
   "execution_count": 6,
   "metadata": {
    "collapsed": false
   },
   "outputs": [
    {
     "name": "stdout",
     "output_type": "stream",
     "text": [
      "<type 'type'>\n"
     ]
    }
   ],
   "source": [
    "print type(Fraction)"
   ]
  },
  {
   "cell_type": "markdown",
   "metadata": {},
   "source": [
    "Interestingly, when python looks up magic `__attribute__` atrributes, it completely skips instances and goes straight to the class"
   ]
  },
  {
   "cell_type": "markdown",
   "metadata": {},
   "source": [
    "### `__slots__`\n",
    "\n",
    "- can limits the number of allowable attributes"
   ]
  },
  {
   "cell_type": "code",
   "execution_count": 8,
   "metadata": {
    "collapsed": false
   },
   "outputs": [
    {
     "ename": "AttributeError",
     "evalue": "'SlotsFraction' object has no attribute 'baaaaad'",
     "output_type": "error",
     "traceback": [
      "\u001b[0;31m---------------------------------------------------------------------------\u001b[0m",
      "\u001b[0;31mAttributeError\u001b[0m                            Traceback (most recent call last)",
      "\u001b[0;32m<ipython-input-8-911ae763e975>\u001b[0m in \u001b[0;36m<module>\u001b[0;34m()\u001b[0m\n\u001b[1;32m     11\u001b[0m \u001b[0;34m\u001b[0m\u001b[0m\n\u001b[1;32m     12\u001b[0m \u001b[0mbadfrac\u001b[0m \u001b[0;34m=\u001b[0m \u001b[0mSlotsFraction\u001b[0m\u001b[0;34m(\u001b[0m\u001b[0;36m1\u001b[0m\u001b[0;34m,\u001b[0m\u001b[0;36m4\u001b[0m\u001b[0;34m)\u001b[0m\u001b[0;34m\u001b[0m\u001b[0m\n\u001b[0;32m---> 13\u001b[0;31m \u001b[0mbadfrac\u001b[0m\u001b[0;34m.\u001b[0m\u001b[0mbaaaaad\u001b[0m \u001b[0;34m=\u001b[0m \u001b[0mbadfrac\u001b[0m\u001b[0;34m.\u001b[0m\u001b[0mnumerator\u001b[0m  \u001b[0;31m# this will error!\u001b[0m\u001b[0;34m\u001b[0m\u001b[0m\n\u001b[0m",
      "\u001b[0;31mAttributeError\u001b[0m: 'SlotsFraction' object has no attribute 'baaaaad'"
     ]
    }
   ],
   "source": [
    "class SlotsFraction(object):\n",
    "    __slots__ = ['numerator', 'denominator']\n",
    "    def __init__(self, numerator, denominator):\n",
    "        self.numerator = numerator\n",
    "        self.denominator = denominator\n",
    "    def __mul__(self, other):\n",
    "        return Fraction(self.numerator * other.numerator,\n",
    "        self.denominator * other.denominator)\n",
    "    def print_fraction(self):\n",
    "        print '{}/{}'.format(self.numerator, self.denominator)\n",
    "        \n",
    "badfrac = SlotsFraction(1,4)\n",
    "badfrac.baaaaad = badfrac.numerator  # this will error!"
   ]
  },
  {
   "cell_type": "markdown",
   "metadata": {},
   "source": [
    "# `__del__`\n",
    "\n",
    "- gets called on garbage collection......... maybe\n",
    "- no traceback on exception, lel\n",
    "- don't use `__del__`, or at least, don't reasonably expect it to fire"
   ]
  },
  {
   "cell_type": "code",
   "execution_count": null,
   "metadata": {
    "collapsed": true
   },
   "outputs": [],
   "source": []
  }
 ],
 "metadata": {
  "kernelspec": {
   "display_name": "Python 2",
   "language": "python",
   "name": "python2"
  },
  "language_info": {
   "codemirror_mode": {
    "name": "ipython",
    "version": 2
   },
   "file_extension": ".py",
   "mimetype": "text/x-python",
   "name": "python",
   "nbconvert_exporter": "python",
   "pygments_lexer": "ipython2",
   "version": "2.7.10"
  }
 },
 "nbformat": 4,
 "nbformat_minor": 0
}
