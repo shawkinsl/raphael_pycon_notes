{
 "cells": [
  {
   "cell_type": "markdown",
   "metadata": {},
   "source": [
    "# HTTP/2\n",
    "- support\n",
    "    - 60% of browsers\n",
    "- binary instead of text\n",
    "    - harder to do manually, easier to write clients\n",
    "- one connection with parallel requests\n",
    "- header compression\n",
    "\n",
    "# Server Push\n",
    "- it's cool\n",
    "- figure that stuff out\n",
    "- somehow obviates minification\n",
    "\n",
    "## some examples\n",
    "### uploading multiple images\n",
    "- Serial uploads: upload all together as a single upload, store them serially\n",
    "- -> concurrently send three images, concurrently store 3 images\n",
    "\n",
    "### API stuff we care about\n",
    "- Many requests on the same connection: pipelining / multiplexing"
   ]
  },
  {
   "cell_type": "code",
   "execution_count": 1,
   "metadata": {
    "collapsed": true
   },
   "outputs": [],
   "source": [
    "num_requests = 378\n",
    "\n",
    "for i in range(num_requests):\n",
    "    pass # do a bunch of requests"
   ]
  },
  {
   "cell_type": "markdown",
   "metadata": {},
   "source": [
    "### Q: Can your favorite requests library handle pipelining and multiplexing???\n",
    "\n",
    "## Streams\n",
    "- weights\n",
    "- dependencies\n",
    "\n",
    "## Frames\n",
    "- "
   ]
  },
  {
   "cell_type": "code",
   "execution_count": null,
   "metadata": {
    "collapsed": true
   },
   "outputs": [],
   "source": []
  }
 ],
 "metadata": {
  "kernelspec": {
   "display_name": "Python 2",
   "language": "python",
   "name": "python2"
  },
  "language_info": {
   "codemirror_mode": {
    "name": "ipython",
    "version": 2
   },
   "file_extension": ".py",
   "mimetype": "text/x-python",
   "name": "python",
   "nbconvert_exporter": "python",
   "pygments_lexer": "ipython2",
   "version": "2.7.10"
  }
 },
 "nbformat": 4,
 "nbformat_minor": 0
}
