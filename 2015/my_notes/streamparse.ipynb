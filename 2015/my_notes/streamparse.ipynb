{
 "cells": [
  {
   "cell_type": "markdown",
   "metadata": {},
   "source": [
    "# Real-time streams with Python and Apache storm\n",
    "\n",
    "talk by Andrew Montalenti of\n",
    "http://parse.ly\n",
    "\n",
    "[watch the talk here](https://www.youtube.com/watch?v=ja4Qj9-l6WQ)\n",
    "\n",
    "Alternately, how to use Apache Storm to defeat the GIL\n",
    "\n",
    "Other references: Zookeeper\n",
    "\n",
    "## Common solution: Queues and workers\n",
    "it sucks\n",
    "\n",
    "\n"
   ]
  },
  {
   "cell_type": "markdown",
   "metadata": {},
   "source": [
    "    There must be a better way\n",
    "                -Raymond Hettinger"
   ]
  },
  {
   "cell_type": "markdown",
   "metadata": {},
   "source": [
    "## \"Python can't do this\"\n",
    "\n",
    "..\"you should use Scala\"\n",
    "\n",
    "\n",
    "Nope. You can.\n"
   ]
  },
  {
   "cell_type": "markdown",
   "metadata": {},
   "source": [
    "## Streamparse\n",
    "An easy to use Python interface for Apache storm\n",
    "\n",
    "# Storm basics\n",
    "Abstraction for cluster computing\n",
    "- Tuple - single data value that flows through your cluster (similar to python tuple)\n",
    "- Spout - emits tuples into a cluster\n",
    "- Bolts - A processing stage. Takes in tuples and processes them (transforms the data) and [optionally] emits the data back into the pipeline\n",
    "- Topology - A wired pipeline. Sets up how these components are connected.\n",
    "\n"
   ]
  },
  {
   "cell_type": "markdown",
   "metadata": {},
   "source": [
    "#Streamparse\n",
    "An easy to use Python interface for Apache storm\n",
    "\n",
    "    pip install sparse\n",
    "\n",
    "does some magic for you:\n",
    "- virtualenvs\n",
    "- builds a jar out of source\n",
    "- reverse tunnel to nimbus\n",
    "- creattes in-memobry topology spec\n",
    "- uploads jar to nimbus\n"
   ]
  },
  {
   "cell_type": "markdown",
   "metadata": {},
   "source": [
    "also look at pykafka"
   ]
  },
  {
   "cell_type": "code",
   "execution_count": null,
   "metadata": {},
   "outputs": [],
   "source": [
    ""
   ]
  }
 ],
 "metadata": {
  "kernelspec": {
   "display_name": "Python 2",
   "language": "python",
   "name": "python2"
  },
  "language_info": {
   "codemirror_mode": {
    "name": "ipython",
    "version": 2.0
   },
   "file_extension": ".py",
   "mimetype": "text/x-python",
   "name": "python",
   "nbconvert_exporter": "python",
   "pygments_lexer": "ipython2",
   "version": "2.7.9"
  }
 },
 "nbformat": 4,
 "nbformat_minor": 0
}