{
 "cells": [
  {
   "cell_type": "markdown",
   "metadata": {},
   "source": [
    "# Grids, Streets and Pipelines: Building a linguistic street map with scikit-learn\n",
    "by Michelle Fullwood\n",
    "\n",
    "[watch the talk here](https://www.youtube.com/watch?v=MIFOTFdtK2k)\n"
   ]
  },
  {
   "cell_type": "markdown",
   "metadata": {},
   "source": [
    "Goal: Color code streets based on linguistic origin of their names\n",
    "\n",
    "Background: Singapore has street names from all over: Local, English, Chinese, Indian, and others\n",
    "\n",
    "Data: Openstreetmap Metro Exports\n",
    "\n",
    "Packages: geopandas - special helpers specific to geological data\n",
    "\n",
    "additional reading: A few useful things to know about machine learning\" By Pedro Domingos"
   ]
  },
  {
   "cell_type": "code",
   "execution_count": null,
   "metadata": {},
   "outputs": [],
   "source": [
    "import geopandas.DataFrame as df\n",
    "\n",
    "# Super easy filtering!!!!\n",
    "df = [df.geometry.within(singapore.geometry)]\n",
    "df.plot()"
   ]
  },
  {
   "cell_type": "markdown",
   "metadata": {},
   "source": [
    "What do we need to classify?"
   ]
  },
  {
   "cell_type": "markdown",
   "metadata": {},
   "source": [
    "\n",
    "Classification schema = Malay, English, Indian, Chinese...\n",
    "labelled train/test set\n",
    "    Generated this by hand-coding 10% at a time, training on it, and hand-correcting the result over and over\n",
    "    Use `train_test_split` to set aside some test data\n",
    "Numerical/boolean features\n",
    "    N-grams: good for language dististinction because of characteristic sequences of letters\n",
    "        Extract them using `CountVectorizer`\n"
   ]
  },
  {
   "cell_type": "code",
   "execution_count": null,
   "metadata": {},
   "outputs": [],
   "source": [
    "CountVectorizer(ngram_range=(1, 4), analyzer='char')"
   ]
  },
  {
   "cell_type": "markdown",
   "metadata": {},
   "source": [
    "classifier\n",
    "    Look at scikit learn flow chart\n",
    "    for this data, it gave us : Linear Support Vector Classification (SVC)\n",
    "        drawing a line between clusters of points based on feature values"
   ]
  },
  {
   "cell_type": "code",
   "execution_count": null,
   "metadata": {},
   "outputs": [],
   "source": [
    "from sklearn.svm import LinerSVC\n",
    "classifier = LinerarSVC()\n",
    "model = classifier.fit(x_train, y_test)"
   ]
  },
  {
   "cell_type": "code",
   "execution_count": null,
   "metadata": {},
   "outputs": [],
   "source": [
    "evaluation metric\n",
    "    accuracy score"
   ]
  },
  {
   "cell_type": "code",
   "execution_count": null,
   "metadata": {},
   "outputs": [],
   "source": [
    "# Check against our metric\n",
    "y_test = model.predict(x_test)\n",
    "sklearn.metrics.accuracy_score(y_true, y_test)"
   ]
  },
  {
   "cell_type": "markdown",
   "metadata": {},
   "source": [
    "How can we improve the classifier?\n",
    "    more data - hard b/c we need to hand-label\n",
    "    try other classifiers\n",
    "    more features (maybe fewer)\n",
    "    hyperparameter tuning"
   ]
  },
  {
   "cell_type": "markdown",
   "metadata": {},
   "source": [
    "Adding features\n",
    "    Number of words\n",
    "    Average word length\n",
    "    are all the wordsin the dictionary? - finds generic roads\n",
    "    is the road tag Malay? (road vs \"jalan\")\n",
    "    "
   ]
  },
  {
   "cell_type": "markdown",
   "metadata": {},
   "source": [
    "Pipelines\n",
    "    Build a set of steps to transform the dataset\n",
    "    Easier to manage"
   ]
  },
  {
   "cell_type": "code",
   "execution_count": null,
   "metadata": {},
   "outputs": [],
   "source": [
    "from sklearn.pipeline import pipeline\n",
    "ppl = Pipeline([\n",
    "        ('ngram', CountVectorizer()),\n",
    "        ('clf', LinearSVC())\n",
    "    ])"
   ]
  },
  {
   "cell_type": "markdown",
   "metadata": {},
   "source": [
    "Custom transformers\n",
    "    inherit from `BaseEstimator` and `TransformerMixin`\n",
    "    implement `init`, `transform` and `fit`"
   ]
  },
  {
   "cell_type": "markdown",
   "metadata": {},
   "source": [
    "Feature Unions\n",
    "    pipelines in parallel\n",
    "    #TODO: more reasearch on this"
   ]
  },
  {
   "cell_type": "markdown",
   "metadata": {},
   "source": [
    "HyperParameters\n",
    "    GridsearchCV\n",
    "    #TODO: more research on this\n",
    "    "
   ]
  },
  {
   "cell_type": "markdown",
   "metadata": {},
   "source": [
    "mplleaflet\n",
    "    interactive maps!!!!!"
   ]
  },
  {
   "cell_type": "code",
   "execution_count": null,
   "metadata": {},
   "outputs": [],
   "source": [
    ""
   ]
  },
  {
   "cell_type": "code",
   "execution_count": null,
   "metadata": {},
   "outputs": [],
   "source": [
    ""
   ]
  }
 ],
 "metadata": {
  "kernelspec": {
   "display_name": "Python 2",
   "language": "python",
   "name": "python2"
  },
  "language_info": {
   "codemirror_mode": {
    "name": "ipython",
    "version": 2.0
   },
   "file_extension": ".py",
   "mimetype": "text/x-python",
   "name": "python",
   "nbconvert_exporter": "python",
   "pygments_lexer": "ipython2",
   "version": "2.7.9"
  }
 },
 "nbformat": 4,
 "nbformat_minor": 0
}