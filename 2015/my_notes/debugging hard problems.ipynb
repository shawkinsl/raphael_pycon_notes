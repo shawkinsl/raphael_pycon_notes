{
 "cells": [
  {
   "cell_type": "markdown",
   "metadata": {},
   "source": [
    "#Debugging Hard Problems\n",
    "by Alex Gaynor\n",
    "\n",
    "[watch the talk here](https://www.youtube.com/watch?v=ij99SGGEX34)\n",
    "\n",
    "[slides are here](https://speakerdeck.com/alex)\n",
    "\n",
    "\n",
    "# What is debugging?\n",
    "- When does this bug occur?\n",
    "    -when I do x, my server crashes\n",
    "- why does it happen?\n",
    "- how do we fix it\n",
    "\n"
   ]
  },
  {
   "cell_type": "markdown",
   "metadata": {},
   "source": [
    "Hard problem: the stuff I normally do isn't working\n",
    "Hard problem is not: a test failing"
   ]
  },
  {
   "cell_type": "markdown",
   "metadata": {},
   "source": [
    "## Things that lead to hard problems\n",
    " - timing or order dependent\n",
    " - crosses module boundaries\n",
    "     - imprecise API details\n",
    " - threads\n",
    " - independently \"safe\" failures conspiring\n",
    " \n",
    "    - a big bug made of many small bugs"
   ]
  },
  {
   "cell_type": "markdown",
   "metadata": {},
   "source": [
    "## Ground rules\n",
    "- Everything is in scope\n",
    "    - the os\n",
    "    - the stdlib\n",
    "    - ... stuff you don't normally think about\n",
    "    - __but__ chances are you're not the first person to find it if it is\n",
    "- Read __all__ of the source\n",
    "    - documentation is good, but can be out of sync with the code\n",
    "    - read your source code\n",
    "    - read your dependencies' source code\n",
    "- Trust nothing\n",
    "    - verify your assumptions\n",
    "        - e.g. don't assume your file is actually closing when you call close()\n",
    "            - maybe someone monkey patched it... so don't skip it when stepping in pdb\n",
    "        - don't be arrogant\n",
    "- Write down what you do while debugging\n",
    "    - here's what I tried already\n",
    "        -here's what happened\n",
    "    - commit experiments to branches"
   ]
  },
  {
   "cell_type": "markdown",
   "metadata": {},
   "source": [
    "## Tools to use\n",
    "- Your debugger!\n",
    "- OS tracing (strace etc) to see system calls your program makes\n",
    "    - lsof\n",
    "    - netstat\n",
    "    - htop\n",
    "    - iotop\n",
    "    - /proc\n",
    "    - osquery (released by facebook) - make a DB from what your system is doing\n",
    "- an editor you like reading"
   ]
  },
  {
   "cell_type": "markdown",
   "metadata": {},
   "source": [
    "## Techniques\n",
    "- Pair debugging\n",
    "    - Talk to someone (or a rubber duck) about the problem\n",
    "    - Helps spot misunderstandings or bad assumptions\n",
    "- Minimization\n",
    "    - Find the simplest example that can reproduce the problem\n",
    "        - eg, replace a call with a hard-coded result\n",
    "    - be careful with intermittent bugs though! You might not be proving the cause\n",
    "- Proximate cause\n",
    "    - Look for the recent changes\n",
    "        - but don't overlook the environment and how it interacts with the older code\n",
    "    - git bisect is a good tool here\n",
    "- Don't get distracted\n",
    "    - while taking a close look, you're likely to find other issues\n",
    "        - write these down, and continue your original task!\n",
    "- Don't debug in production\n",
    "    - Get the bug to happen in your dev environment\n",
    "        - If you can't get this to happen, that's a big hint"
   ]
  },
  {
   "cell_type": "markdown",
   "metadata": {},
   "source": []
  },
  {
   "cell_type": "code",
   "execution_count": null,
   "metadata": {
    "collapsed": true
   },
   "outputs": [],
   "source": []
  },
  {
   "cell_type": "code",
   "execution_count": null,
   "metadata": {
    "collapsed": true
   },
   "outputs": [],
   "source": []
  },
  {
   "cell_type": "code",
   "execution_count": null,
   "metadata": {
    "collapsed": true
   },
   "outputs": [],
   "source": []
  },
  {
   "cell_type": "code",
   "execution_count": null,
   "metadata": {
    "collapsed": true
   },
   "outputs": [],
   "source": []
  },
  {
   "cell_type": "code",
   "execution_count": null,
   "metadata": {
    "collapsed": true
   },
   "outputs": [],
   "source": []
  },
  {
   "cell_type": "code",
   "execution_count": null,
   "metadata": {
    "collapsed": true
   },
   "outputs": [],
   "source": []
  },
  {
   "cell_type": "code",
   "execution_count": null,
   "metadata": {
    "collapsed": true
   },
   "outputs": [],
   "source": []
  },
  {
   "cell_type": "code",
   "execution_count": null,
   "metadata": {
    "collapsed": true
   },
   "outputs": [],
   "source": []
  }
 ],
 "metadata": {
  "kernelspec": {
   "display_name": "Python 2",
   "language": "python",
   "name": "python2"
  },
  "language_info": {
   "codemirror_mode": {
    "name": "ipython",
    "version": 2
   },
   "file_extension": ".py",
   "mimetype": "text/x-python",
   "name": "python",
   "nbconvert_exporter": "python",
   "pygments_lexer": "ipython2",
   "version": "2.7.10"
  }
 },
 "nbformat": 4,
 "nbformat_minor": 0
}
