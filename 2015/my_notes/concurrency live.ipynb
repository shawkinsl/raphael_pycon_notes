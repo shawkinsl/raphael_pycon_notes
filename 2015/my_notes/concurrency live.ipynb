{
 "cells": [
  {
   "cell_type": "markdown",
   "metadata": {},
   "source": [
    "# Concurrency Live from the ground up - LIVE!\n",
    "David Beazley\n",
    "\n",
    "There is absolutely no way to keep up with this guy! [Just go watch the talk!!!](https://www.youtube.com/watch?v=MCs5OvhV9S4)\n",
    "\n"
   ]
  },
  {
   "cell_type": "code",
   "execution_count": null,
   "metadata": {},
   "outputs": [],
   "source": [
    "# Bad Fib - recursive algorithm that takes longer the higher the humber is"
   ]
  },
  {
   "cell_type": "code",
   "execution_count": null,
   "metadata": {},
   "outputs": [],
   "source": [
    "# Create a socket server!\n",
    "\n",
    "# listen for a request, and handle it by calling fib and writing it into the response"
   ]
  },
  {
   "cell_type": "markdown",
   "metadata": {},
   "source": [
    "But it can't handle multiple clients!!!\n",
    "\n",
    "First pass:\n",
    "    use threading - run your socket handler method in a thread\n",
    "       Things can go wrong: e.g. GIL: you're stuck on the same core"
   ]
  },
  {
   "cell_type": "code",
   "execution_count": null,
   "metadata": {},
   "outputs": [],
   "source": [
    "# Let's test performance!\n",
    "import time\n",
    "\n",
    "# Create a connection\n",
    "\n",
    "while True:\n",
    "        start = time.time()\n",
    "        # make a request and get response\n",
    "        end = time.time()\n",
    "        print end"
   ]
  },
  {
   "cell_type": "markdown",
   "metadata": {},
   "source": [
    "Because of GIL, each client you run this on slows down the response"
   ]
  },
  {
   "cell_type": "code",
   "execution_count": null,
   "metadata": {},
   "outputs": [],
   "source": [
    "# Another test for requests/second\n",
    "import time\n",
    "\n",
    "# Create a connection\n",
    "\n",
    "#make a global variable (counter) and a thread to monitor it\n",
    "\n",
    "while True:\n",
    "        start = time.time()\n",
    "        # make a tiny request and get response\n",
    "        end = time.time()\n",
    "        print end"
   ]
  },
  {
   "cell_type": "markdown",
   "metadata": {},
   "source": [
    "Requests / second dramatically decreases if anything CPU heavy happens\n",
    "\n",
    "from 26k/s down to 90!\n",
    "\n",
    "If you do this in a different process, the rate hardly drops off"
   ]
  },
  {
   "cell_type": "markdown",
   "metadata": {},
   "source": [
    "So how do you deal with it?\n",
    "    Do the work in a pool\n",
    "        concurrent futures module\n",
    "        Downsides: there's more overhead (reqs/s down to 1800 from 26k)\n",
    "    "
   ]
  },
  {
   "cell_type": "code",
   "execution_count": null,
   "metadata": {},
   "outputs": [],
   "source": [
    "# Threads suck, pools are 'meh'  let's try something else"
   ]
  },
  {
   "cell_type": "markdown",
   "metadata": {},
   "source": [
    "Why were we using threads to begin with?\n",
    "    Blocking operations\n",
    "        getting from client\n",
    "        sending\n",
    "    Let's make a hack with yield (in a generator) does this too!\n",
    "        a generator stops until you"
   ]
  },
  {
   "cell_type": "code",
   "execution_count": null,
   "metadata": {},
   "outputs": [],
   "source": [
    "from collections import dequeue\n",
    "tasks = dequeue()\n",
    "\n",
    "# put some tasks in there\n",
    "\n",
    "# Round robin scheduler\n",
    "while tasks:\n",
    "    t = tasks.popleft()\n",
    "    try:\n",
    "            x = next(t)\n",
    "            print x\n",
    "            tasks.append(x)\n",
    "    except StopIteration:\n",
    "        print 'done!'"
   ]
  },
  {
   "cell_type": "code",
   "execution_count": null,
   "metadata": {},
   "outputs": [],
   "source": [
    "# put yield statements into code where blocking things happen\n",
    "\n",
    "# yield returns \"what\" and \"why\"\n",
    "\n",
    "# check the reason, and shove waiting tasks into an waiting area (penalty box)"
   ]
  },
  {
   "cell_type": "markdown",
   "metadata": {},
   "source": [
    "How do you get things out of the waiting area?"
   ]
  },
  {
   "cell_type": "code",
   "execution_count": null,
   "metadata": {},
   "outputs": [],
   "source": [
    "# While there are any tasks in queue, or waiting areas\n",
    "\n",
    "import select\n",
    "\n",
    "# This teslls us who can send or who can recieve (from the OS)\n",
    "\n",
    "# Append the results from select back into the tasks queue"
   ]
  },
  {
   "cell_type": "markdown",
   "metadata": {},
   "source": [
    "Faster than a pool, but this yield hack STILL doesn't avoid the GIL"
   ]
  },
  {
   "cell_type": "code",
   "execution_count": null,
   "metadata": {},
   "outputs": [],
   "source": [
    ""
   ]
  },
  {
   "cell_type": "code",
   "execution_count": null,
   "metadata": {},
   "outputs": [],
   "source": [
    ""
   ]
  }
 ],
 "metadata": {
  "kernelspec": {
   "display_name": "Python 2",
   "language": "python",
   "name": "python2"
  },
  "language_info": {
   "codemirror_mode": {
    "name": "ipython",
    "version": 2.0
   },
   "file_extension": ".py",
   "mimetype": "text/x-python",
   "name": "python",
   "nbconvert_exporter": "python",
   "pygments_lexer": "ipython2",
   "version": "2.7.9"
  }
 },
 "nbformat": 4,
 "nbformat_minor": 0
}