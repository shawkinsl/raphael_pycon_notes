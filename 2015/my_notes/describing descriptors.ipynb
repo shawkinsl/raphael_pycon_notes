{
 "cells": [
  {
   "cell_type": "markdown",
   "metadata": {},
   "source": [
    "# Describing descriptors\n",
    "by Laura Rupprecht\n",
    "\n",
    "[watch the talk here](https://www.youtube.com/watch?v=h2-WPwGnHqE)\n",
    "\n",
    "[slides are posted here](http://bit.ly/py-descriptors)"
   ]
  },
  {
   "cell_type": "markdown",
   "metadata": {},
   "source": [
    "#What is a descriptor?\n",
    "    an object attribute that has some sort of \"binding behavior\""
   ]
  },
  {
   "cell_type": "code",
   "execution_count": null,
   "metadata": {},
   "outputs": [],
   "source": [
    "class Foo(object)\n",
    "    x = SomeDescriptor(some_args) \n",
    "    \n",
    "    def__init_(self, *args, **kwargs):\n",
    "        pass\n",
    "    def __get__(self, instance, owner):\n",
    "        return value\n",
    "    def __set__(self):\n",
    "        pass\n",
    "    def __delete__(self):\n",
    "        pass"
   ]
  },
  {
   "cell_type": "markdown",
   "metadata": {},
   "source": [
    "When you're dealing with json\n",
    "dictionary access EVERYWHERE\n",
    "\n",
    "... no IDE autocomplete.... no idea where you are\n",
    "   "
   ]
  },
  {
   "cell_type": "code",
   "execution_count": null,
   "metadata": {},
   "outputs": [],
   "source": [
    "video['bla']['foo']['bar']['baz']"
   ]
  },
  {
   "cell_type": "markdown",
   "metadata": {},
   "source": [
    "##how can I make it prettier?\n",
    "\n",
    "###1st try:\n",
    "    put it into an object\n",
    "    make the parts of the json you use into attributes\n",
    "    \n",
    "    drawback:\n",
    "        you can't update values because they don't \"bubble up\"\n",
    "        \n",
    " - sidenote: look up dict_digger\n",
    " \n",
    " \n",
    " \n",
    " "
   ]
  },
  {
   "cell_type": "code",
   "execution_count": null,
   "metadata": {},
   "outputs": [],
   "source": [
    "#TODO: get response descriptor code and put it here\n",
    "\n",
    "class YoutubeResonse():\n",
    "    def __init__(self, json_response):\n",
    "        self.json_response = json_response\n",
    "    id = ResponseDescriptor('id')\n",
    "    title = ResponseDescriptor('snipptet', 'title')"
   ]
  },
  {
   "cell_type": "markdown",
   "metadata": {},
   "source": [
    "## What does python do when you look for an attr?\n",
    "\n",
    "- Class dict: `type(instance)__dict__['f']`\n",
    "- Instance dict\n"
   ]
  },
  {
   "cell_type": "code",
   "execution_count": null,
   "metadata": {},
   "outputs": [],
   "source": [
    "#TODO: fill in the above"
   ]
  },
  {
   "cell_type": "markdown",
   "metadata": {},
   "source": [
    "## Shortcuts\n",
    "\n",
    " - @property: this is always a data desciptor\n",
    " - @classmethod: define this for a type"
   ]
  },
  {
   "cell_type": "code",
   "execution_count": null,
   "metadata": {},
   "outputs": [],
   "source": [
    "@property\n",
    "def bar(self)\n",
    "    return self.the_answer()"
   ]
  },
  {
   "cell_type": "code",
   "execution_count": 1,
   "metadata": {},
   "outputs": [],
   "source": [
    "class Foo():\n",
    "    @classmethod\n",
    "    def bar(cls):\n",
    "        return blah"
   ]
  },
  {
   "cell_type": "markdown",
   "metadata": {},
   "source": [
    "## Good errors to use\n",
    "\n",
    "- ValueError\n",
    "- ValidationError\n",
    "- AttributeError\n",
    "- NotImplementedError"
   ]
  },
  {
   "cell_type": "markdown",
   "metadata": {},
   "source": [
    "## Other talks\n",
    "    demystifying descriptors in 5 minutes - Chris Beaumont\n",
    "    *note - I took a picture of this list"
   ]
  },
  {
   "cell_type": "markdown",
   "metadata": {},
   "source": []
  },
  {
   "cell_type": "code",
   "execution_count": null,
   "metadata": {},
   "outputs": [],
   "source": [
    ""
   ]
  }
 ],
 "metadata": {
  "kernelspec": {
   "display_name": "Python 2",
   "language": "python",
   "name": "python2"
  },
  "language_info": {
   "codemirror_mode": {
    "name": "ipython",
    "version": 2.0
   },
   "file_extension": ".py",
   "mimetype": "text/x-python",
   "name": "python",
   "nbconvert_exporter": "python",
   "pygments_lexer": "ipython2",
   "version": "2.7.9"
  }
 },
 "nbformat": 4,
 "nbformat_minor": 0
}