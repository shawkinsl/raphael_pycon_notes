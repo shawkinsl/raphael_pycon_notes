{
 "cells": [
  {
   "cell_type": "markdown",
   "metadata": {},
   "source": [
    "# Ansible beyond YAML\n",
    "by Michael Scherer\n",
    "\n",
    "[watch the talk](https://www.youtube.com/watch?v=igJTEugHozM)\n",
    "\n",
    "Ansible is an orchestration tool written in python\n",
    "\n",
    "List of systems to modify\n",
    "\n",
    "connect via ssh\n",
    "\n",
    "apply a playbook\n",
    "    list of commands to run\n",
    "    \n",
    "modules\n",
    "    a bunch of plugins for doing special things"
   ]
  },
  {
   "cell_type": "code",
   "execution_count": null,
   "metadata": {},
   "outputs": [],
   "source": [
    "#ansible-playbook\n",
    "-i list_of_machines\n",
    "-m shell\n",
    "-a 'yum upgrade bash'\n",
    "all"
   ]
  },
  {
   "cell_type": "markdown",
   "metadata": {},
   "source": [
    "there, we upgraded bash on our machines\n",
    "\n",
    "but you can do it from a python script too!:"
   ]
  },
  {
   "cell_type": "code",
   "execution_count": null,
   "metadata": {},
   "outputs": [],
   "source": [
    "import ansible.runner\n",
    "runner = ansible.runner.Runner(\n",
    "    #the same thing can be implemented here)"
   ]
  },
  {
   "cell_type": "markdown",
   "metadata": {},
   "source": [
    "dynamic inventory\n",
    "    you can provide the inventory dynamically from anything that spits out json\n",
    "    just give the metadata for host, user, pass, etc\n",
    "    \n",
    "config via environment or configuration file\n",
    "\n",
    "\n",
    "other connection types\n",
    "    chroot\n",
    "    nsenter (docker)\n",
    "    func (like ansible but with client/server)\n",
    "    salt (maybe soon)\n",
    "    windows powershell\n",
    "    etc\n",
    "    \n",
    "Python module for extending (to make your own connectors)\n",
    "    implemtent:\n",
    "           connect\n",
    "           put_file\n",
    "           fetch_file\n",
    "           close\n",
    "           exec_command"
   ]
  },
  {
   "cell_type": "markdown",
   "metadata": {},
   "source": [
    "Playbooks\n",
    "    DSL based on YAML\n",
    "    You can use jinja in this DSL (use python to build a playbook)\n",
    "    \n",
    "enable jinja2_extensions in ansible.cfg"
   ]
  },
  {
   "cell_type": "code",
   "execution_count": null,
   "metadata": {},
   "outputs": [],
   "source": [
    ""
   ]
  },
  {
   "cell_type": "code",
   "execution_count": null,
   "metadata": {},
   "outputs": [],
   "source": [
    ""
   ]
  },
  {
   "cell_type": "code",
   "execution_count": null,
   "metadata": {},
   "outputs": [],
   "source": [
    ""
   ]
  }
 ],
 "metadata": {
  "kernelspec": {
   "display_name": "Python 2",
   "language": "python",
   "name": "python2"
  },
  "language_info": {
   "codemirror_mode": {
    "name": "ipython",
    "version": 2.0
   },
   "file_extension": ".py",
   "mimetype": "text/x-python",
   "name": "python",
   "nbconvert_exporter": "python",
   "pygments_lexer": "ipython2",
   "version": "2.7.9"
  }
 },
 "nbformat": 4,
 "nbformat_minor": 0
}