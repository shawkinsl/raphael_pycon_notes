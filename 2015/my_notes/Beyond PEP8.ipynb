{
 "cells": [
  {
   "cell_type": "markdown",
   "metadata": {},
   "source": [
    "#Beyond Pep8\n",
    "\n",
    "Raymond Hettinger\n",
    "\n",
    "[what are you doing here?! go watch the video!](https://www.youtube.com/watch?v=wf-BqAjZb8M)\n"
   ]
  },
  {
   "cell_type": "markdown",
   "metadata": {},
   "source": [
    "    Do PEP8 unto yourself, and not unto others"
   ]
  },
  {
   "cell_type": "markdown",
   "metadata": {},
   "source": [
    "    PEP8 Compliant does not mean Pythonic"
   ]
  },
  {
   "cell_type": "markdown",
   "metadata": {},
   "source": [
    "    Build an adapter for bad APIs"
   ]
  },
  {
   "cell_type": "markdown",
   "metadata": {},
   "source": [
    "        Naming consistency is in your control, even with \"bad\" APIs\n",
    "        Remove getters/setters with `@Property`\n",
    "        Geet by index/id can be turned into a `sequence`\n",
    "        "
   ]
  },
  {
   "cell_type": "code",
   "execution_count": null,
   "metadata": {},
   "outputs": [],
   "source": [
    ""
   ]
  }
 ],
 "metadata": {
  "kernelspec": {
   "display_name": "Python 2",
   "language": "python",
   "name": "python2"
  },
  "language_info": {
   "codemirror_mode": {
    "name": "ipython",
    "version": 2.0
   },
   "file_extension": ".py",
   "mimetype": "text/x-python",
   "name": "python",
   "nbconvert_exporter": "python",
   "pygments_lexer": "ipython2",
   "version": "2.7.9"
  }
 },
 "nbformat": 4,
 "nbformat_minor": 0
}