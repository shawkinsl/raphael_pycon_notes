{
 "cells": [
  {
   "cell_type": "markdown",
   "metadata": {},
   "source": [
    "# Demystifying docker\n",
    "by Andrew Baker\n",
    "\n",
    "[watch the talk here](https://www.youtube.com/watch?v=GVVtR_hrdKI)\n"
   ]
  },
  {
   "cell_type": "markdown",
   "metadata": {},
   "source": [
    "http://www.andrewtorkbaker.com\n",
    "Go look at the docker training video set\n",
    "\n",
    "Build once, run anywhere\n",
    "    put everything into a container and ship it anywhere\n",
    "    all the dependencies etc are inside\n",
    "    \n",
    "What is docker?\n",
    "    Least portable                        most portable, more overhead\n",
    "    <-----------chef------------------docker------------>\n",
    "    manual    CM tools                             traditional VMs"
   ]
  },
  {
   "cell_type": "markdown",
   "metadata": {},
   "source": [
    "In other configuration management tools (like Puppet & Ansible) you define a configuration and it gets deployed\n",
    "    drawback: you have to learn their DSL\n",
    "\n",
    "Docker replaces a host OS and hypervisor with the docker engine"
   ]
  },
  {
   "cell_type": "markdown",
   "metadata": {},
   "source": [
    "Docker library images\n",
    "    Starting point for your environments\n",
    "    Like a VM appliance\n",
    "    \n",
    "    \n",
    "A real example\n",
    "    gifify"
   ]
  },
  {
   "cell_type": "markdown",
   "metadata": {},
   "source": [
    "\n",
    "More stuff to look up\n",
    "    FIG (now docker compose)\n",
    "    Docker swarm"
   ]
  },
  {
   "cell_type": "markdown",
   "metadata": {},
   "source": [
    "Try it yourself\n",
    "    Go all in on some non-essential service\n",
    "    Use official base images\n",
    "        but make your own too!\n",
    "        reference the official ones\n",
    "    install docker-compose\n",
    "        links docker containers together\n",
    "    keep an eye on these project\n",
    "        docker-machine\n",
    "        docker-compose\n",
    "        \n",
    "Tutorial:\n",
    "    http://docker.atbacker.me"
   ]
  },
  {
   "cell_type": "code",
   "execution_count": null,
   "metadata": {},
   "outputs": [],
   "source": [
    ""
   ]
  },
  {
   "cell_type": "code",
   "execution_count": null,
   "metadata": {},
   "outputs": [],
   "source": [
    ""
   ]
  },
  {
   "cell_type": "code",
   "execution_count": null,
   "metadata": {},
   "outputs": [],
   "source": [
    ""
   ]
  },
  {
   "cell_type": "code",
   "execution_count": null,
   "metadata": {},
   "outputs": [],
   "source": [
    ""
   ]
  },
  {
   "cell_type": "code",
   "execution_count": null,
   "metadata": {},
   "outputs": [],
   "source": [
    ""
   ]
  },
  {
   "cell_type": "code",
   "execution_count": null,
   "metadata": {},
   "outputs": [],
   "source": [
    ""
   ]
  },
  {
   "cell_type": "code",
   "execution_count": null,
   "metadata": {},
   "outputs": [],
   "source": [
    ""
   ]
  },
  {
   "cell_type": "code",
   "execution_count": null,
   "metadata": {},
   "outputs": [],
   "source": [
    ""
   ]
  },
  {
   "cell_type": "code",
   "execution_count": null,
   "metadata": {},
   "outputs": [],
   "source": [
    ""
   ]
  },
  {
   "cell_type": "code",
   "execution_count": null,
   "metadata": {},
   "outputs": [],
   "source": [
    ""
   ]
  }
 ],
 "metadata": {
  "kernelspec": {
   "display_name": "Python 2",
   "language": "python",
   "name": "python2"
  },
  "language_info": {
   "codemirror_mode": {
    "name": "ipython",
    "version": 2.0
   },
   "file_extension": ".py",
   "mimetype": "text/x-python",
   "name": "python",
   "nbconvert_exporter": "python",
   "pygments_lexer": "ipython2",
   "version": "2.7.9"
  }
 },
 "nbformat": 4,
 "nbformat_minor": 0
}